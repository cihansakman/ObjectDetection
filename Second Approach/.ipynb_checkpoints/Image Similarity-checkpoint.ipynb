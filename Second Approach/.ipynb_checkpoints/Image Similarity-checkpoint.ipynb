{
 "cells": [
  {
   "cell_type": "code",
   "execution_count": 2,
   "metadata": {},
   "outputs": [],
   "source": [
    "from skimage.metrics import structural_similarity\n",
    "import cv2\n",
    "from skimage.transform import resize \n",
    "from sewar.full_ref import mse, rmse, psnr, uqi, ssim, ergas, scc, rase, sam, msssim, vifp"
   ]
  },
  {
   "cell_type": "code",
   "execution_count": 3,
   "metadata": {},
   "outputs": [],
   "source": [
    "#Works well with imags of different dimensions\n",
    "def orb_sim(img1, img2):\n",
    "    orb = cv2.ORB_create()\n",
    "    \n",
    "    # detect keypoints and descriptors\n",
    "    kp_a, desc_a = orb.detectAndCompute(img1, None)\n",
    "    kp_b, desc_b = orb.detectAndCompute(img2, None)\n",
    "    \n",
    "    #define the bruteforce matcher object\n",
    "    bf = cv2.BFMatcher(cv2.NORM_HAMMING, crossCheck = True)\n",
    "    \n",
    "    #perform matches\n",
    "    matches = bf.match(desc_a, desc_b)\n",
    "    #Look for similar regions with distance < 50. Goes from 0 to 100 \n",
    "    similar_regions = [i for i in matches if i.distance < 70]\n",
    "    if len(matches) == 0:\n",
    "        return 0\n",
    "    return len(similar_regions) / len(matches)"
   ]
  },
  {
   "cell_type": "code",
   "execution_count": 4,
   "metadata": {},
   "outputs": [],
   "source": [
    "#Needs image to be same dimensions\n",
    "def structural_sim(img1, img2):\n",
    "    sim, diff = structural_similarity(img1, img2, full=True)\n",
    "    return sim"
   ]
  },
  {
   "cell_type": "code",
   "execution_count": 5,
   "metadata": {},
   "outputs": [],
   "source": [
    "#Resizing images\n",
    "def resize_image(img1, img2):\n",
    "    resized_img = resize(img2, (img1.shape[0], img1.shape[1]), anti_aliasing=True, preserve_range = True)\n",
    "    return img1, resized_img"
   ]
  },
  {
   "cell_type": "code",
   "execution_count": 19,
   "metadata": {},
   "outputs": [
    {
     "name": "stdout",
     "output_type": "stream",
     "text": [
      "Similarity using ORB is: 0.3939393939393939\n",
      "Similarity using SSM is: 0.1922712338462167\n",
      "SSIM:  (0.14132304979735616, 0.33088361982325104)\n",
      "UQI:  0.44029497255045663\n"
     ]
    },
    {
     "name": "stderr",
     "output_type": "stream",
     "text": [
      "<ipython-input-4-b5d0321febda>:3: UserWarning: Inputs have mismatched dtype.  Setting data_range based on im1.dtype.\n",
      "  sim, diff = structural_similarity(img1, img2, full=True)\n"
     ]
    }
   ],
   "source": [
    "img1 = cv2.imread('celenesNemlendirici.png', 0)\n",
    "img2 = cv2.imread('segmented_object_4.jpg',0)\n",
    "\n",
    "orb_similarity = orb_sim(img1, img2) #1.0 means identical\n",
    "print(\"Similarity using ORB is:\", orb_similarity)\n",
    "\n",
    "\n",
    "img1, img2 = resize_image(img1, img2)\n",
    "structural_similariy = structural_sim(img1, img2)\n",
    "print(\"Similarity using SSM is:\", structural_similariy)\n",
    "\n",
    "\n",
    "print(\"SSIM: \", ssim(img1, img2))\n",
    "print(\"UQI: \", uqi(img1, img2))\n",
    "\n",
    "\n"
   ]
  },
  {
   "cell_type": "code",
   "execution_count": 132,
   "metadata": {},
   "outputs": [
    {
     "name": "stdout",
     "output_type": "stream",
     "text": [
      "image1 size: (1930, 563, 3)\n",
      "image2 size: (573, 183, 3)\n",
      "resized image1 size: (109, 109, 3)\n",
      "resized image2 size: (109, 109, 3)\n",
      "the images are different\n"
     ]
    }
   ],
   "source": [
    "import numpy as np\n",
    "img1 = cv2.imread('cenelesTuruncu.jpg')\n",
    "img2 = cv2.imread('segmented_object_3.jpg')\n",
    "\n",
    "\n",
    "\n",
    "\n",
    "#Resized the images\n",
    "\n",
    "\n",
    "scale_percent = 60\n",
    "width = int(img1.shape[1] * scale_percent / 100)\n",
    "height = int(img1.shape[1] * scale_percent / 100)\n",
    "\n",
    "width = int(img2.shape[1] * scale_percent / 100)\n",
    "height = int(img2.shape[1] * scale_percent / 100)\n",
    "\n",
    "dim = (width, height)\n",
    "\n",
    "resized1 = cv2.resize(img1, dim, interpolation=cv2.INTER_AREA)\n",
    "resized2 = cv2.resize(img2, dim, interpolation=cv2.INTER_AREA)\n",
    "\n",
    "structural_similariy = structural_sim(resized1, resized1)\n",
    "print(\"Resized Similarity using SSM is:\", structural_similariy)\n",
    "\n",
    "\n",
    "print(\"Resized SSIM: \", ssim(resized1, resized1))\n",
    "print(\"Resized UQI: \", uqi(resized1, resized1))\n",
    "\n",
    "\n",
    "print(\"image1 size:\", img1.shape)\n",
    "print(\"image2 size:\", img2.shape)\n",
    "\n",
    "print(\"resized image1 size:\", resized1.shape)\n",
    "print(\"resized image2 size:\", resized2.shape)\n",
    "\n",
    "difference = cv2.subtract(resized1, resized2)\n",
    "\n",
    "result = not np.any(difference)\n",
    "\n",
    "if result is True:\n",
    "    print(\"The images are the same\")\n",
    "else:\n",
    "    cv2.imwrite(\"result.jpg\", difference)\n",
    "    print(\"the images are different\")"
   ]
  },
  {
   "cell_type": "code",
   "execution_count": null,
   "metadata": {},
   "outputs": [],
   "source": []
  },
  {
   "cell_type": "code",
   "execution_count": null,
   "metadata": {},
   "outputs": [],
   "source": []
  }
 ],
 "metadata": {
  "kernelspec": {
   "display_name": "Python 3",
   "language": "python",
   "name": "python3"
  },
  "language_info": {
   "codemirror_mode": {
    "name": "ipython",
    "version": 3
   },
   "file_extension": ".py",
   "mimetype": "text/x-python",
   "name": "python",
   "nbconvert_exporter": "python",
   "pygments_lexer": "ipython3",
   "version": "3.8.3"
  }
 },
 "nbformat": 4,
 "nbformat_minor": 4
}
