{
 "cells": [
  {
   "cell_type": "markdown",
   "metadata": {},
   "source": [
    "# 1. Install and Import Dependencies"
   ]
  },
  {
   "cell_type": "code",
   "execution_count": 17,
   "metadata": {},
   "outputs": [
    {
     "name": "stdout",
     "output_type": "stream",
     "text": [
      "^C\n"
     ]
    }
   ],
   "source": [
    "#!pip install tensorflow==2.4.1 tensorflow-gpu==2.4.1 pixellib opencv-python --user \n",
    "\n"
   ]
  },
  {
   "cell_type": "code",
   "execution_count": 22,
   "metadata": {},
   "outputs": [
    {
     "name": "stderr",
     "output_type": "stream",
     "text": [
      "WARNING: Ignoring invalid distribution -qdm (c:\\anaconda3\\lib\\site-packages)\n",
      "WARNING: Ignoring invalid distribution -qdm (c:\\anaconda3\\lib\\site-packages)\n",
      "WARNING: Ignoring invalid distribution -qdm (c:\\anaconda3\\lib\\site-packages)\n",
      "  WARNING: The scripts estimator_ckpt_converter.exe, import_pb_to_tensorboard.exe, saved_model_cli.exe, tensorboard.exe, tf_upgrade_v2.exe, tflite_convert.exe, toco.exe and toco_from_protos.exe are installed in 'C:\\Users\\sakma\\AppData\\Roaming\\Python\\Python38\\Scripts' which is not on PATH.\n",
      "  Consider adding this directory to PATH or, if you prefer to suppress this warning, use --no-warn-script-location.\n",
      "WARNING: Ignoring invalid distribution -qdm (c:\\anaconda3\\lib\\site-packages)\n",
      "WARNING: Ignoring invalid distribution -qdm (c:\\anaconda3\\lib\\site-packages)\n",
      "WARNING: Ignoring invalid distribution -qdm (c:\\anaconda3\\lib\\site-packages)\n",
      "WARNING: You are using pip version 21.2.2; however, version 22.1 is available.\n",
      "You should consider upgrading via the 'c:\\anaconda3\\python.exe -m pip install --upgrade pip' command.\n"
     ]
    },
    {
     "name": "stdout",
     "output_type": "stream",
     "text": [
      "Collecting tensorflow-gpu==2.4.1\n",
      "  Using cached tensorflow_gpu-2.4.1-cp38-cp38-win_amd64.whl (370.7 MB)\n",
      "Requirement already satisfied: tensorflow-estimator<2.5.0,>=2.4.0 in c:\\users\\sakma\\appdata\\roaming\\python\\python38\\site-packages (from tensorflow-gpu==2.4.1) (2.4.0)\n",
      "Requirement already satisfied: termcolor~=1.1.0 in c:\\anaconda3\\lib\\site-packages (from tensorflow-gpu==2.4.1) (1.1.0)\n",
      "Requirement already satisfied: keras-preprocessing~=1.1.2 in c:\\anaconda3\\lib\\site-packages (from tensorflow-gpu==2.4.1) (1.1.2)\n",
      "Requirement already satisfied: flatbuffers~=1.12.0 in c:\\anaconda3\\lib\\site-packages (from tensorflow-gpu==2.4.1) (1.12)\n",
      "Requirement already satisfied: astunparse~=1.6.3 in c:\\anaconda3\\lib\\site-packages (from tensorflow-gpu==2.4.1) (1.6.3)\n",
      "Requirement already satisfied: opt-einsum~=3.3.0 in c:\\anaconda3\\lib\\site-packages (from tensorflow-gpu==2.4.1) (3.3.0)\n",
      "Requirement already satisfied: protobuf>=3.9.2 in c:\\anaconda3\\lib\\site-packages (from tensorflow-gpu==2.4.1) (3.17.3)\n",
      "Requirement already satisfied: typing-extensions~=3.7.4 in c:\\users\\sakma\\appdata\\roaming\\python\\python38\\site-packages (from tensorflow-gpu==2.4.1) (3.7.4.3)\n",
      "Requirement already satisfied: h5py~=2.10.0 in c:\\users\\sakma\\appdata\\roaming\\python\\python38\\site-packages (from tensorflow-gpu==2.4.1) (2.10.0)\n",
      "Requirement already satisfied: wheel~=0.35 in c:\\anaconda3\\lib\\site-packages (from tensorflow-gpu==2.4.1) (0.36.2)\n",
      "Requirement already satisfied: grpcio~=1.32.0 in c:\\users\\sakma\\appdata\\roaming\\python\\python38\\site-packages (from tensorflow-gpu==2.4.1) (1.32.0)\n",
      "Requirement already satisfied: wrapt~=1.12.1 in c:\\anaconda3\\lib\\site-packages (from tensorflow-gpu==2.4.1) (1.12.1)\n",
      "Requirement already satisfied: tensorboard~=2.4 in c:\\anaconda3\\lib\\site-packages (from tensorflow-gpu==2.4.1) (2.9.0)\n",
      "Requirement already satisfied: google-pasta~=0.2 in c:\\anaconda3\\lib\\site-packages (from tensorflow-gpu==2.4.1) (0.2.0)\n",
      "Requirement already satisfied: gast==0.3.3 in c:\\users\\sakma\\appdata\\roaming\\python\\python38\\site-packages (from tensorflow-gpu==2.4.1) (0.3.3)\n",
      "Requirement already satisfied: six~=1.15.0 in c:\\anaconda3\\lib\\site-packages (from tensorflow-gpu==2.4.1) (1.15.0)\n",
      "Requirement already satisfied: absl-py~=0.10 in c:\\users\\sakma\\appdata\\roaming\\python\\python38\\site-packages (from tensorflow-gpu==2.4.1) (0.15.0)\n",
      "Requirement already satisfied: numpy~=1.19.2 in c:\\users\\sakma\\appdata\\roaming\\python\\python38\\site-packages (from tensorflow-gpu==2.4.1) (1.19.5)\n",
      "Requirement already satisfied: werkzeug>=1.0.1 in c:\\anaconda3\\lib\\site-packages (from tensorboard~=2.4->tensorflow-gpu==2.4.1) (1.0.1)\n",
      "Requirement already satisfied: google-auth-oauthlib<0.5,>=0.4.1 in c:\\anaconda3\\lib\\site-packages (from tensorboard~=2.4->tensorflow-gpu==2.4.1) (0.4.4)\n",
      "Requirement already satisfied: tensorboard-plugin-wit>=1.6.0 in c:\\anaconda3\\lib\\site-packages (from tensorboard~=2.4->tensorflow-gpu==2.4.1) (1.8.0)\n",
      "Requirement already satisfied: markdown>=2.6.8 in c:\\anaconda3\\lib\\site-packages (from tensorboard~=2.4->tensorflow-gpu==2.4.1) (3.3.4)\n",
      "Requirement already satisfied: tensorboard-data-server<0.7.0,>=0.6.0 in c:\\anaconda3\\lib\\site-packages (from tensorboard~=2.4->tensorflow-gpu==2.4.1) (0.6.1)\n",
      "Requirement already satisfied: setuptools>=41.0.0 in c:\\anaconda3\\lib\\site-packages (from tensorboard~=2.4->tensorflow-gpu==2.4.1) (57.1.0)\n",
      "Requirement already satisfied: requests<3,>=2.21.0 in c:\\anaconda3\\lib\\site-packages (from tensorboard~=2.4->tensorflow-gpu==2.4.1) (2.24.0)\n",
      "Requirement already satisfied: google-auth<3,>=1.6.3 in c:\\anaconda3\\lib\\site-packages (from tensorboard~=2.4->tensorflow-gpu==2.4.1) (1.32.1)\n",
      "Requirement already satisfied: cachetools<5.0,>=2.0.0 in c:\\anaconda3\\lib\\site-packages (from google-auth<3,>=1.6.3->tensorboard~=2.4->tensorflow-gpu==2.4.1) (4.2.2)\n",
      "Requirement already satisfied: pyasn1-modules>=0.2.1 in c:\\anaconda3\\lib\\site-packages (from google-auth<3,>=1.6.3->tensorboard~=2.4->tensorflow-gpu==2.4.1) (0.2.8)\n",
      "Requirement already satisfied: rsa<5,>=3.1.4 in c:\\anaconda3\\lib\\site-packages (from google-auth<3,>=1.6.3->tensorboard~=2.4->tensorflow-gpu==2.4.1) (4.7.2)\n",
      "Requirement already satisfied: requests-oauthlib>=0.7.0 in c:\\anaconda3\\lib\\site-packages (from google-auth-oauthlib<0.5,>=0.4.1->tensorboard~=2.4->tensorflow-gpu==2.4.1) (1.3.0)\n",
      "Requirement already satisfied: pyasn1<0.5.0,>=0.4.6 in c:\\anaconda3\\lib\\site-packages (from pyasn1-modules>=0.2.1->google-auth<3,>=1.6.3->tensorboard~=2.4->tensorflow-gpu==2.4.1) (0.4.8)\n",
      "Requirement already satisfied: certifi>=2017.4.17 in c:\\anaconda3\\lib\\site-packages (from requests<3,>=2.21.0->tensorboard~=2.4->tensorflow-gpu==2.4.1) (2020.6.20)\n",
      "Requirement already satisfied: idna<3,>=2.5 in c:\\anaconda3\\lib\\site-packages (from requests<3,>=2.21.0->tensorboard~=2.4->tensorflow-gpu==2.4.1) (2.10)\n",
      "Requirement already satisfied: chardet<4,>=3.0.2 in c:\\anaconda3\\lib\\site-packages (from requests<3,>=2.21.0->tensorboard~=2.4->tensorflow-gpu==2.4.1) (3.0.4)\n",
      "Requirement already satisfied: urllib3!=1.25.0,!=1.25.1,<1.26,>=1.21.1 in c:\\anaconda3\\lib\\site-packages (from requests<3,>=2.21.0->tensorboard~=2.4->tensorflow-gpu==2.4.1) (1.25.9)\n",
      "Requirement already satisfied: oauthlib>=3.0.0 in c:\\anaconda3\\lib\\site-packages (from requests-oauthlib>=0.7.0->google-auth-oauthlib<0.5,>=0.4.1->tensorboard~=2.4->tensorflow-gpu==2.4.1) (3.1.1)\n",
      "Installing collected packages: tensorflow-gpu\n",
      "Successfully installed tensorflow-gpu-2.4.1\n",
      "Requirement already satisfied: tensorflow in c:\\users\\sakma\\appdata\\roaming\\python\\python38\\site-packages (2.4.1)\n",
      "Requirement already satisfied: tensorflow-estimator<2.5.0,>=2.4.0 in c:\\users\\sakma\\appdata\\roaming\\python\\python38\\site-packages (from tensorflow) (2.4.0)\n",
      "Requirement already satisfied: gast==0.3.3 in c:\\users\\sakma\\appdata\\roaming\\python\\python38\\site-packages (from tensorflow) (0.3.3)\n",
      "Requirement already satisfied: termcolor~=1.1.0 in c:\\anaconda3\\lib\\site-packages (from tensorflow) (1.1.0)\n"
     ]
    },
    {
     "name": "stderr",
     "output_type": "stream",
     "text": [
      "WARNING: Ignoring invalid distribution -qdm (c:\\anaconda3\\lib\\site-packages)\n",
      "WARNING: Ignoring invalid distribution -qdm (c:\\anaconda3\\lib\\site-packages)\n",
      "WARNING: Ignoring invalid distribution -qdm (c:\\anaconda3\\lib\\site-packages)\n",
      "ERROR: pip's dependency resolver does not currently take into account all the packages that are installed. This behaviour is the source of the following dependency conflicts.\n",
      "tf-models-official 2.9.2 requires opencv-python-headless, which is not installed.\n",
      "black 22.3.0 requires typing-extensions>=3.10.0.0; python_version < \"3.10\", but you have typing-extensions 3.7.4.3 which is incompatible.\n",
      "tf-models-official 2.9.2 requires numpy>=1.20, but you have numpy 1.19.5 which is incompatible.\n",
      "tf-models-official 2.9.2 requires tensorflow~=2.9.0, but you have tensorflow 2.4.1 which is incompatible.\n",
      "apache-beam 2.39.0rc2 requires cloudpickle<3,>=2.0.0, but you have cloudpickle 1.5.0 which is incompatible.\n",
      "tensorflow-text 2.9.0 requires tensorflow<2.10,>=2.9.0, but you have tensorflow 2.4.1 which is incompatible.\n",
      "WARNING: Ignoring invalid distribution -qdm (c:\\anaconda3\\lib\\site-packages)\n",
      "WARNING: Ignoring invalid distribution -qdm (c:\\anaconda3\\lib\\site-packages)\n",
      "WARNING: Ignoring invalid distribution -qdm (c:\\anaconda3\\lib\\site-packages)\n",
      "WARNING: You are using pip version 21.2.2; however, version 22.1 is available.\n",
      "You should consider upgrading via the 'c:\\anaconda3\\python.exe -m pip install --upgrade pip' command.\n"
     ]
    },
    {
     "name": "stdout",
     "output_type": "stream",
     "text": [
      "Requirement already satisfied: wheel~=0.35 in c:\\anaconda3\\lib\\site-packages (from tensorflow) (0.36.2)\n",
      "Requirement already satisfied: absl-py~=0.10 in c:\\users\\sakma\\appdata\\roaming\\python\\python38\\site-packages (from tensorflow) (0.15.0)\n",
      "Requirement already satisfied: numpy~=1.19.2 in c:\\users\\sakma\\appdata\\roaming\\python\\python38\\site-packages (from tensorflow) (1.19.5)\n",
      "Requirement already satisfied: protobuf>=3.9.2 in c:\\anaconda3\\lib\\site-packages (from tensorflow) (3.17.3)\n",
      "Requirement already satisfied: google-pasta~=0.2 in c:\\anaconda3\\lib\\site-packages (from tensorflow) (0.2.0)\n",
      "Requirement already satisfied: keras-preprocessing~=1.1.2 in c:\\anaconda3\\lib\\site-packages (from tensorflow) (1.1.2)\n",
      "Requirement already satisfied: grpcio~=1.32.0 in c:\\users\\sakma\\appdata\\roaming\\python\\python38\\site-packages (from tensorflow) (1.32.0)\n",
      "Requirement already satisfied: wrapt~=1.12.1 in c:\\anaconda3\\lib\\site-packages (from tensorflow) (1.12.1)\n",
      "Requirement already satisfied: tensorboard~=2.4 in c:\\anaconda3\\lib\\site-packages (from tensorflow) (2.9.0)\n",
      "Requirement already satisfied: flatbuffers~=1.12.0 in c:\\anaconda3\\lib\\site-packages (from tensorflow) (1.12)\n",
      "Collecting typing-extensions~=3.7.4\n",
      "  Using cached typing_extensions-3.7.4.3-py3-none-any.whl (22 kB)\n",
      "Requirement already satisfied: h5py~=2.10.0 in c:\\users\\sakma\\appdata\\roaming\\python\\python38\\site-packages (from tensorflow) (2.10.0)\n",
      "Requirement already satisfied: opt-einsum~=3.3.0 in c:\\anaconda3\\lib\\site-packages (from tensorflow) (3.3.0)\n",
      "Requirement already satisfied: astunparse~=1.6.3 in c:\\anaconda3\\lib\\site-packages (from tensorflow) (1.6.3)\n",
      "Requirement already satisfied: six~=1.15.0 in c:\\anaconda3\\lib\\site-packages (from tensorflow) (1.15.0)\n",
      "Requirement already satisfied: markdown>=2.6.8 in c:\\anaconda3\\lib\\site-packages (from tensorboard~=2.4->tensorflow) (3.3.4)\n",
      "Requirement already satisfied: google-auth<3,>=1.6.3 in c:\\anaconda3\\lib\\site-packages (from tensorboard~=2.4->tensorflow) (1.32.1)\n",
      "Requirement already satisfied: requests<3,>=2.21.0 in c:\\anaconda3\\lib\\site-packages (from tensorboard~=2.4->tensorflow) (2.24.0)\n",
      "Requirement already satisfied: setuptools>=41.0.0 in c:\\anaconda3\\lib\\site-packages (from tensorboard~=2.4->tensorflow) (57.1.0)\n",
      "Requirement already satisfied: tensorboard-plugin-wit>=1.6.0 in c:\\anaconda3\\lib\\site-packages (from tensorboard~=2.4->tensorflow) (1.8.0)\n",
      "Requirement already satisfied: werkzeug>=1.0.1 in c:\\anaconda3\\lib\\site-packages (from tensorboard~=2.4->tensorflow) (1.0.1)\n",
      "Requirement already satisfied: tensorboard-data-server<0.7.0,>=0.6.0 in c:\\anaconda3\\lib\\site-packages (from tensorboard~=2.4->tensorflow) (0.6.1)\n",
      "Requirement already satisfied: google-auth-oauthlib<0.5,>=0.4.1 in c:\\anaconda3\\lib\\site-packages (from tensorboard~=2.4->tensorflow) (0.4.4)\n",
      "Requirement already satisfied: pyasn1-modules>=0.2.1 in c:\\anaconda3\\lib\\site-packages (from google-auth<3,>=1.6.3->tensorboard~=2.4->tensorflow) (0.2.8)\n",
      "Requirement already satisfied: cachetools<5.0,>=2.0.0 in c:\\anaconda3\\lib\\site-packages (from google-auth<3,>=1.6.3->tensorboard~=2.4->tensorflow) (4.2.2)\n",
      "Requirement already satisfied: rsa<5,>=3.1.4 in c:\\anaconda3\\lib\\site-packages (from google-auth<3,>=1.6.3->tensorboard~=2.4->tensorflow) (4.7.2)\n",
      "Requirement already satisfied: requests-oauthlib>=0.7.0 in c:\\anaconda3\\lib\\site-packages (from google-auth-oauthlib<0.5,>=0.4.1->tensorboard~=2.4->tensorflow) (1.3.0)\n",
      "Requirement already satisfied: pyasn1<0.5.0,>=0.4.6 in c:\\anaconda3\\lib\\site-packages (from pyasn1-modules>=0.2.1->google-auth<3,>=1.6.3->tensorboard~=2.4->tensorflow) (0.4.8)\n",
      "Requirement already satisfied: certifi>=2017.4.17 in c:\\anaconda3\\lib\\site-packages (from requests<3,>=2.21.0->tensorboard~=2.4->tensorflow) (2020.6.20)\n",
      "Requirement already satisfied: idna<3,>=2.5 in c:\\anaconda3\\lib\\site-packages (from requests<3,>=2.21.0->tensorboard~=2.4->tensorflow) (2.10)\n",
      "Requirement already satisfied: chardet<4,>=3.0.2 in c:\\anaconda3\\lib\\site-packages (from requests<3,>=2.21.0->tensorboard~=2.4->tensorflow) (3.0.4)\n",
      "Requirement already satisfied: urllib3!=1.25.0,!=1.25.1,<1.26,>=1.21.1 in c:\\anaconda3\\lib\\site-packages (from requests<3,>=2.21.0->tensorboard~=2.4->tensorflow) (1.25.9)\n",
      "Requirement already satisfied: oauthlib>=3.0.0 in c:\\anaconda3\\lib\\site-packages (from requests-oauthlib>=0.7.0->google-auth-oauthlib<0.5,>=0.4.1->tensorboard~=2.4->tensorflow) (3.1.1)\n",
      "Installing collected packages: typing-extensions\n",
      "  Attempting uninstall: typing-extensions\n",
      "    Found existing installation: typing-extensions 4.2.0\n",
      "    Uninstalling typing-extensions-4.2.0:\n",
      "      Successfully uninstalled typing-extensions-4.2.0\n",
      "Successfully installed typing-extensions-3.7.4.3\n"
     ]
    }
   ],
   "source": [
    "#!pip install tensorflow --user "
   ]
  },
  {
   "cell_type": "code",
   "execution_count": 23,
   "metadata": {},
   "outputs": [
    {
     "name": "stdout",
     "output_type": "stream",
     "text": [
      "Requirement already satisfied: tensorflow-gpu in c:\\users\\sakma\\appdata\\roaming\\python\\python38\\site-packages (2.4.1)\n",
      "Requirement already satisfied: typing-extensions~=3.7.4 in c:\\users\\sakma\\appdata\\roaming\\python\\python38\\site-packages (from tensorflow-gpu) (3.7.4.3)\n",
      "Requirement already satisfied: tensorflow-estimator<2.5.0,>=2.4.0 in c:\\users\\sakma\\appdata\\roaming\\python\\python38\\site-packages (from tensorflow-gpu) (2.4.0)\n",
      "Requirement already satisfied: h5py~=2.10.0 in c:\\users\\sakma\\appdata\\roaming\\python\\python38\\site-packages (from tensorflow-gpu) (2.10.0)\n",
      "Requirement already satisfied: keras-preprocessing~=1.1.2 in c:\\anaconda3\\lib\\site-packages (from tensorflow-gpu) (1.1.2)\n",
      "Requirement already satisfied: absl-py~=0.10 in c:\\users\\sakma\\appdata\\roaming\\python\\python38\\site-packages (from tensorflow-gpu) (0.15.0)\n",
      "Requirement already satisfied: protobuf>=3.9.2 in c:\\anaconda3\\lib\\site-packages (from tensorflow-gpu) (3.17.3)\n",
      "Requirement already satisfied: google-pasta~=0.2 in c:\\anaconda3\\lib\\site-packages (from tensorflow-gpu) (0.2.0)\n",
      "Requirement already satisfied: astunparse~=1.6.3 in c:\\anaconda3\\lib\\site-packages (from tensorflow-gpu) (1.6.3)\n",
      "Requirement already satisfied: flatbuffers~=1.12.0 in c:\\anaconda3\\lib\\site-packages (from tensorflow-gpu) (1.12)\n",
      "Requirement already satisfied: numpy~=1.19.2 in c:\\users\\sakma\\appdata\\roaming\\python\\python38\\site-packages (from tensorflow-gpu) (1.19.5)\n",
      "Requirement already satisfied: six~=1.15.0 in c:\\anaconda3\\lib\\site-packages (from tensorflow-gpu) (1.15.0)\n",
      "Requirement already satisfied: wheel~=0.35 in c:\\anaconda3\\lib\\site-packages (from tensorflow-gpu) (0.36.2)\n",
      "Requirement already satisfied: opt-einsum~=3.3.0 in c:\\anaconda3\\lib\\site-packages (from tensorflow-gpu) (3.3.0)\n",
      "Requirement already satisfied: gast==0.3.3 in c:\\users\\sakma\\appdata\\roaming\\python\\python38\\site-packages (from tensorflow-gpu) (0.3.3)\n",
      "Requirement already satisfied: termcolor~=1.1.0 in c:\\anaconda3\\lib\\site-packages (from tensorflow-gpu) (1.1.0)\n",
      "Requirement already satisfied: tensorboard~=2.4 in c:\\anaconda3\\lib\\site-packages (from tensorflow-gpu) (2.9.0)\n",
      "Requirement already satisfied: grpcio~=1.32.0 in c:\\users\\sakma\\appdata\\roaming\\python\\python38\\site-packages (from tensorflow-gpu) (1.32.0)\n",
      "Requirement already satisfied: wrapt~=1.12.1 in c:\\anaconda3\\lib\\site-packages (from tensorflow-gpu) (1.12.1)\n",
      "Requirement already satisfied: google-auth<3,>=1.6.3 in c:\\anaconda3\\lib\\site-packages (from tensorboard~=2.4->tensorflow-gpu) (1.32.1)\n",
      "Requirement already satisfied: werkzeug>=1.0.1 in c:\\anaconda3\\lib\\site-packages (from tensorboard~=2.4->tensorflow-gpu) (1.0.1)\n",
      "Requirement already satisfied: google-auth-oauthlib<0.5,>=0.4.1 in c:\\anaconda3\\lib\\site-packages (from tensorboard~=2.4->tensorflow-gpu) (0.4.4)\n",
      "Requirement already satisfied: requests<3,>=2.21.0 in c:\\anaconda3\\lib\\site-packages (from tensorboard~=2.4->tensorflow-gpu) (2.24.0)\n",
      "Requirement already satisfied: tensorboard-plugin-wit>=1.6.0 in c:\\anaconda3\\lib\\site-packages (from tensorboard~=2.4->tensorflow-gpu) (1.8.0)\n",
      "Requirement already satisfied: tensorboard-data-server<0.7.0,>=0.6.0 in c:\\anaconda3\\lib\\site-packages (from tensorboard~=2.4->tensorflow-gpu) (0.6.1)\n",
      "Requirement already satisfied: markdown>=2.6.8 in c:\\anaconda3\\lib\\site-packages (from tensorboard~=2.4->tensorflow-gpu) (3.3.4)\n",
      "Requirement already satisfied: setuptools>=41.0.0 in c:\\anaconda3\\lib\\site-packages (from tensorboard~=2.4->tensorflow-gpu) (57.1.0)\n",
      "Requirement already satisfied: pyasn1-modules>=0.2.1 in c:\\anaconda3\\lib\\site-packages (from google-auth<3,>=1.6.3->tensorboard~=2.4->tensorflow-gpu) (0.2.8)\n",
      "Requirement already satisfied: cachetools<5.0,>=2.0.0 in c:\\anaconda3\\lib\\site-packages (from google-auth<3,>=1.6.3->tensorboard~=2.4->tensorflow-gpu) (4.2.2)\n",
      "Requirement already satisfied: rsa<5,>=3.1.4 in c:\\anaconda3\\lib\\site-packages (from google-auth<3,>=1.6.3->tensorboard~=2.4->tensorflow-gpu) (4.7.2)\n",
      "Requirement already satisfied: requests-oauthlib>=0.7.0 in c:\\anaconda3\\lib\\site-packages (from google-auth-oauthlib<0.5,>=0.4.1->tensorboard~=2.4->tensorflow-gpu) (1.3.0)\n",
      "Requirement already satisfied: pyasn1<0.5.0,>=0.4.6 in c:\\anaconda3\\lib\\site-packages (from pyasn1-modules>=0.2.1->google-auth<3,>=1.6.3->tensorboard~=2.4->tensorflow-gpu) (0.4.8)\n",
      "Requirement already satisfied: chardet<4,>=3.0.2 in c:\\anaconda3\\lib\\site-packages (from requests<3,>=2.21.0->tensorboard~=2.4->tensorflow-gpu) (3.0.4)\n",
      "Requirement already satisfied: certifi>=2017.4.17 in c:\\anaconda3\\lib\\site-packages (from requests<3,>=2.21.0->tensorboard~=2.4->tensorflow-gpu) (2020.6.20)\n",
      "Requirement already satisfied: urllib3!=1.25.0,!=1.25.1,<1.26,>=1.21.1 in c:\\anaconda3\\lib\\site-packages (from requests<3,>=2.21.0->tensorboard~=2.4->tensorflow-gpu) (1.25.9)\n",
      "Requirement already satisfied: idna<3,>=2.5 in c:\\anaconda3\\lib\\site-packages (from requests<3,>=2.21.0->tensorboard~=2.4->tensorflow-gpu) (2.10)\n",
      "Requirement already satisfied: oauthlib>=3.0.0 in c:\\anaconda3\\lib\\site-packages (from requests-oauthlib>=0.7.0->google-auth-oauthlib<0.5,>=0.4.1->tensorboard~=2.4->tensorflow-gpu) (3.1.1)\n"
     ]
    },
    {
     "name": "stderr",
     "output_type": "stream",
     "text": [
      "WARNING: Ignoring invalid distribution -qdm (c:\\anaconda3\\lib\\site-packages)\n",
      "WARNING: Ignoring invalid distribution -qdm (c:\\anaconda3\\lib\\site-packages)\n",
      "WARNING: Ignoring invalid distribution -qdm (c:\\anaconda3\\lib\\site-packages)\n",
      "WARNING: Ignoring invalid distribution -qdm (c:\\anaconda3\\lib\\site-packages)\n",
      "WARNING: Ignoring invalid distribution -qdm (c:\\anaconda3\\lib\\site-packages)\n",
      "WARNING: Ignoring invalid distribution -qdm (c:\\anaconda3\\lib\\site-packages)\n",
      "WARNING: You are using pip version 21.2.2; however, version 22.1 is available.\n",
      "You should consider upgrading via the 'c:\\anaconda3\\python.exe -m pip install --upgrade pip' command.\n"
     ]
    }
   ],
   "source": [
    "#!pip install tensorflow-gpu --user "
   ]
  },
  {
   "cell_type": "code",
   "execution_count": 24,
   "metadata": {},
   "outputs": [
    {
     "name": "stdout",
     "output_type": "stream",
     "text": [
      "Requirement already satisfied: pixellib in c:\\anaconda3\\lib\\site-packages (0.7.1)"
     ]
    },
    {
     "name": "stderr",
     "output_type": "stream",
     "text": [
      "WARNING: Ignoring invalid distribution -qdm (c:\\anaconda3\\lib\\site-packages)\n",
      "WARNING: Ignoring invalid distribution -qdm (c:\\anaconda3\\lib\\site-packages)\n",
      "WARNING: Ignoring invalid distribution -qdm (c:\\anaconda3\\lib\\site-packages)\n",
      "ERROR: pip's dependency resolver does not currently take into account all the packages that are installed. This behaviour is the source of the following dependency conflicts.\n",
      "tf-models-official 2.9.2 requires opencv-python-headless, which is not installed.\n",
      "tensorflow 2.4.1 requires typing-extensions~=3.7.4, but you have typing-extensions 4.2.0 which is incompatible.\n",
      "tensorflow-gpu 2.4.1 requires typing-extensions~=3.7.4, but you have typing-extensions 4.2.0 which is incompatible.\n",
      "tf-models-official 2.9.2 requires numpy>=1.20, but you have numpy 1.19.5 which is incompatible.\n",
      "tf-models-official 2.9.2 requires tensorflow~=2.9.0, but you have tensorflow 2.4.1 which is incompatible.\n",
      "apache-beam 2.39.0rc2 requires cloudpickle<3,>=2.0.0, but you have cloudpickle 1.5.0 which is incompatible.\n",
      "tensorflow-text 2.9.0 requires tensorflow<2.10,>=2.9.0, but you have tensorflow 2.4.1 which is incompatible.\n",
      "WARNING: Ignoring invalid distribution -qdm (c:\\anaconda3\\lib\\site-packages)\n",
      "WARNING: Ignoring invalid distribution -qdm (c:\\anaconda3\\lib\\site-packages)\n",
      "WARNING: Ignoring invalid distribution -qdm (c:\\anaconda3\\lib\\site-packages)\n",
      "WARNING: You are using pip version 21.2.2; however, version 22.1 is available.\n",
      "You should consider upgrading via the 'c:\\anaconda3\\python.exe -m pip install --upgrade pip' command.\n"
     ]
    },
    {
     "name": "stdout",
     "output_type": "stream",
     "text": [
      "\n",
      "Requirement already satisfied: cloudpickle in c:\\anaconda3\\lib\\site-packages (from pixellib) (1.5.0)\n",
      "Requirement already satisfied: pillow in c:\\anaconda3\\lib\\site-packages (from pixellib) (9.1.1)\n",
      "Requirement already satisfied: yacs in c:\\anaconda3\\lib\\site-packages (from pixellib) (0.1.8)\n",
      "Requirement already satisfied: tqdm in c:\\anaconda3\\lib\\site-packages (from pixellib) (4.64.0)\n",
      "Requirement already satisfied: black in c:\\anaconda3\\lib\\site-packages (from pixellib) (22.3.0)\n",
      "Requirement already satisfied: dataclasses in c:\\anaconda3\\lib\\site-packages (from pixellib) (0.6)\n",
      "Requirement already satisfied: matplotlib in c:\\anaconda3\\lib\\site-packages (from pixellib) (3.2.2)\n",
      "Requirement already satisfied: imgaug in c:\\anaconda3\\lib\\site-packages (from pixellib) (0.4.0)\n",
      "Requirement already satisfied: omegaconf in c:\\anaconda3\\lib\\site-packages (from pixellib) (2.2.1)\n",
      "Requirement already satisfied: Cython in c:\\anaconda3\\lib\\site-packages (from pixellib) (0.29.21)\n",
      "Requirement already satisfied: imantics in c:\\anaconda3\\lib\\site-packages (from pixellib) (0.1.12)\n",
      "Requirement already satisfied: hydra-core in c:\\anaconda3\\lib\\site-packages (from pixellib) (1.2.0)\n",
      "Requirement already satisfied: pyQt5 in c:\\anaconda3\\lib\\site-packages (from pixellib) (5.15.6)\n",
      "Requirement already satisfied: tabulate in c:\\anaconda3\\lib\\site-packages (from pixellib) (0.8.9)\n",
      "Requirement already satisfied: pydot in c:\\anaconda3\\lib\\site-packages\\pydot-1.4.2-py3.8.egg (from pixellib) (1.4.2)\n",
      "Requirement already satisfied: scikit-image in c:\\anaconda3\\lib\\site-packages (from pixellib) (0.16.2)\n",
      "Requirement already satisfied: fvcore in c:\\anaconda3\\lib\\site-packages (from pixellib) (0.1.5.post20220512)\n",
      "Requirement already satisfied: iopath in c:\\anaconda3\\lib\\site-packages (from pixellib) (0.1.9)\n",
      "Requirement already satisfied: labelme2coco in c:\\anaconda3\\lib\\site-packages (from pixellib) (0.2.1)\n",
      "Requirement already satisfied: termcolor in c:\\anaconda3\\lib\\site-packages (from pixellib) (1.1.0)\n",
      "Requirement already satisfied: opencv-python in c:\\anaconda3\\lib\\site-packages\\opencv_python-4.5.5.64-py3.8-win-amd64.egg (from pixellib) (4.5.5.64)\n",
      "Requirement already satisfied: future in c:\\anaconda3\\lib\\site-packages (from pixellib) (0.18.2)\n",
      "Requirement already satisfied: tomli>=1.1.0 in c:\\anaconda3\\lib\\site-packages (from black->pixellib) (2.0.1)\n",
      "Requirement already satisfied: click>=8.0.0 in c:\\anaconda3\\lib\\site-packages (from black->pixellib) (8.0.4)\n",
      "Collecting typing-extensions>=3.10.0.0\n",
      "  Using cached typing_extensions-4.2.0-py3-none-any.whl (24 kB)\n",
      "Requirement already satisfied: mypy-extensions>=0.4.3 in c:\\anaconda3\\lib\\site-packages (from black->pixellib) (0.4.3)\n",
      "Requirement already satisfied: pathspec>=0.9.0 in c:\\anaconda3\\lib\\site-packages (from black->pixellib) (0.9.0)\n",
      "Requirement already satisfied: platformdirs>=2 in c:\\anaconda3\\lib\\site-packages (from black->pixellib) (2.5.2)\n",
      "Requirement already satisfied: colorama in c:\\anaconda3\\lib\\site-packages (from click>=8.0.0->black->pixellib) (0.4.3)\n",
      "Requirement already satisfied: pyyaml>=5.1 in c:\\anaconda3\\lib\\site-packages (from fvcore->pixellib) (5.3.1)\n",
      "Requirement already satisfied: numpy in c:\\users\\sakma\\appdata\\roaming\\python\\python38\\site-packages (from fvcore->pixellib) (1.19.5)\n",
      "Requirement already satisfied: portalocker in c:\\anaconda3\\lib\\site-packages\\portalocker-2.4.0-py3.8.egg (from iopath->pixellib) (2.4.0)\n",
      "Requirement already satisfied: packaging in c:\\anaconda3\\lib\\site-packages (from hydra-core->pixellib) (20.9)\n",
      "Requirement already satisfied: antlr4-python3-runtime==4.9.* in c:\\anaconda3\\lib\\site-packages (from hydra-core->pixellib) (4.9.3)\n",
      "Requirement already satisfied: importlib-resources in c:\\anaconda3\\lib\\site-packages\\importlib_resources-5.7.1-py3.8.egg (from hydra-core->pixellib) (5.7.1)\n",
      "Requirement already satisfied: xmljson in c:\\anaconda3\\lib\\site-packages (from imantics->pixellib) (0.2.1)\n",
      "Requirement already satisfied: lxml in c:\\anaconda3\\lib\\site-packages (from imantics->pixellib) (4.8.0)\n",
      "Requirement already satisfied: imageio in c:\\anaconda3\\lib\\site-packages (from imgaug->pixellib) (2.9.0)\n",
      "Requirement already satisfied: six in c:\\anaconda3\\lib\\site-packages (from imgaug->pixellib) (1.15.0)\n",
      "Requirement already satisfied: scipy in c:\\anaconda3\\lib\\site-packages (from imgaug->pixellib) (1.5.0)\n",
      "Requirement already satisfied: Shapely in c:\\anaconda3\\lib\\site-packages (from imgaug->pixellib) (1.8.2)\n",
      "Requirement already satisfied: PyWavelets>=0.4.0 in c:\\anaconda3\\lib\\site-packages (from scikit-image->pixellib) (1.1.1)\n",
      "Requirement already satisfied: networkx>=2.0 in c:\\anaconda3\\lib\\site-packages (from scikit-image->pixellib) (2.4)\n",
      "Requirement already satisfied: cycler>=0.10 in c:\\anaconda3\\lib\\site-packages (from matplotlib->pixellib) (0.10.0)\n",
      "Requirement already satisfied: pyparsing!=2.0.4,!=2.1.2,!=2.1.6,>=2.0.1 in c:\\anaconda3\\lib\\site-packages (from matplotlib->pixellib) (2.4.7)\n",
      "Requirement already satisfied: python-dateutil>=2.1 in c:\\anaconda3\\lib\\site-packages (from matplotlib->pixellib) (2.8.1)\n",
      "Requirement already satisfied: kiwisolver>=1.0.1 in c:\\anaconda3\\lib\\site-packages (from matplotlib->pixellib) (1.2.0)\n",
      "Requirement already satisfied: decorator>=4.3.0 in c:\\anaconda3\\lib\\site-packages (from networkx>=2.0->scikit-image->pixellib) (4.4.2)\n",
      "Requirement already satisfied: zipp>=3.1.0 in c:\\anaconda3\\lib\\site-packages (from importlib-resources->hydra-core->pixellib) (3.1.0)\n",
      "Requirement already satisfied: sahi>=0.8.19 in c:\\anaconda3\\lib\\site-packages (from labelme2coco->pixellib) (0.9.3)\n",
      "Requirement already satisfied: jsonschema>=2.6.0 in c:\\anaconda3\\lib\\site-packages (from labelme2coco->pixellib) (3.2.0)\n",
      "Requirement already satisfied: setuptools in c:\\anaconda3\\lib\\site-packages (from jsonschema>=2.6.0->labelme2coco->pixellib) (57.1.0)\n",
      "Requirement already satisfied: attrs>=17.4.0 in c:\\anaconda3\\lib\\site-packages (from jsonschema>=2.6.0->labelme2coco->pixellib) (19.3.0)\n",
      "Requirement already satisfied: pyrsistent>=0.14.0 in c:\\anaconda3\\lib\\site-packages (from jsonschema>=2.6.0->labelme2coco->pixellib) (0.16.0)\n",
      "Requirement already satisfied: fire in c:\\anaconda3\\lib\\site-packages (from sahi>=0.8.19->labelme2coco->pixellib) (0.4.0)\n",
      "Requirement already satisfied: requests in c:\\anaconda3\\lib\\site-packages (from sahi>=0.8.19->labelme2coco->pixellib) (2.24.0)\n",
      "Requirement already satisfied: terminaltables in c:\\anaconda3\\lib\\site-packages (from sahi>=0.8.19->labelme2coco->pixellib) (3.1.10)\n",
      "Requirement already satisfied: pywin32>=226 in c:\\anaconda3\\lib\\site-packages (from portalocker->iopath->pixellib) (227)\n",
      "Requirement already satisfied: PyQt5-Qt5>=5.15.2 in c:\\anaconda3\\lib\\site-packages (from pyQt5->pixellib) (5.15.2)\n",
      "Requirement already satisfied: PyQt5-sip<13,>=12.8 in c:\\anaconda3\\lib\\site-packages (from pyQt5->pixellib) (12.10.1)\n",
      "Requirement already satisfied: urllib3!=1.25.0,!=1.25.1,<1.26,>=1.21.1 in c:\\anaconda3\\lib\\site-packages (from requests->sahi>=0.8.19->labelme2coco->pixellib) (1.25.9)\n",
      "Requirement already satisfied: idna<3,>=2.5 in c:\\anaconda3\\lib\\site-packages (from requests->sahi>=0.8.19->labelme2coco->pixellib) (2.10)\n",
      "Requirement already satisfied: certifi>=2017.4.17 in c:\\anaconda3\\lib\\site-packages (from requests->sahi>=0.8.19->labelme2coco->pixellib) (2020.6.20)\n",
      "Requirement already satisfied: chardet<4,>=3.0.2 in c:\\anaconda3\\lib\\site-packages (from requests->sahi>=0.8.19->labelme2coco->pixellib) (3.0.4)\n",
      "Installing collected packages: typing-extensions\n",
      "  Attempting uninstall: typing-extensions\n",
      "    Found existing installation: typing-extensions 3.7.4.3\n",
      "    Uninstalling typing-extensions-3.7.4.3:\n",
      "      Successfully uninstalled typing-extensions-3.7.4.3\n",
      "Successfully installed typing-extensions-4.2.0\n"
     ]
    }
   ],
   "source": [
    "#!pip install pixellib --user  "
   ]
  },
  {
   "cell_type": "code",
   "execution_count": 25,
   "metadata": {},
   "outputs": [
    {
     "name": "stdout",
     "output_type": "stream",
     "text": [
      "Requirement already satisfied: opencv-python in c:\\anaconda3\\lib\\site-packages\\opencv_python-4.5.5.64-py3.8-win-amd64.egg (4.5.5.64)\n",
      "Requirement already satisfied: numpy>=1.14.5 in c:\\users\\sakma\\appdata\\roaming\\python\\python38\\site-packages (from opencv-python) (1.19.5)\n"
     ]
    },
    {
     "name": "stderr",
     "output_type": "stream",
     "text": [
      "WARNING: Ignoring invalid distribution -qdm (c:\\anaconda3\\lib\\site-packages)\n",
      "WARNING: Ignoring invalid distribution -qdm (c:\\anaconda3\\lib\\site-packages)\n",
      "WARNING: Ignoring invalid distribution -qdm (c:\\anaconda3\\lib\\site-packages)\n",
      "WARNING: Ignoring invalid distribution -qdm (c:\\anaconda3\\lib\\site-packages)\n",
      "WARNING: Ignoring invalid distribution -qdm (c:\\anaconda3\\lib\\site-packages)\n",
      "WARNING: Ignoring invalid distribution -qdm (c:\\anaconda3\\lib\\site-packages)\n",
      "WARNING: You are using pip version 21.2.2; however, version 22.1 is available.\n",
      "You should consider upgrading via the 'c:\\anaconda3\\python.exe -m pip install --upgrade pip' command.\n"
     ]
    }
   ],
   "source": [
    "#!pip install opencv-python --user "
   ]
  },
  {
   "cell_type": "code",
   "execution_count": 7,
   "metadata": {},
   "outputs": [
    {
     "name": "stdout",
     "output_type": "stream",
     "text": [
      "Collecting jedi==0.17.2\n",
      "  Downloading jedi-0.17.2-py2.py3-none-any.whl (1.4 MB)\n",
      "Requirement already satisfied: parso<0.8.0,>=0.7.0 in c:\\anaconda3\\lib\\site-packages (from jedi==0.17.2) (0.7.0)\n",
      "Installing collected packages: jedi\n",
      "Successfully installed jedi-0.17.2\n"
     ]
    },
    {
     "name": "stderr",
     "output_type": "stream",
     "text": [
      "WARNING: Ignoring invalid distribution -qdm (c:\\anaconda3\\lib\\site-packages)\n",
      "WARNING: Ignoring invalid distribution -qdm (c:\\anaconda3\\lib\\site-packages)\n",
      "WARNING: Ignoring invalid distribution -qdm (c:\\anaconda3\\lib\\site-packages)\n",
      "WARNING: Ignoring invalid distribution -qdm (c:\\anaconda3\\lib\\site-packages)\n",
      "ERROR: pip's dependency resolver does not currently take into account all the packages that are installed. This behaviour is the source of the following dependency conflicts.\n",
      "spyder 4.1.4 requires pyqtwebengine<5.13; python_version >= \"3\", which is not installed.\n",
      "spyder 4.1.4 requires jedi==0.17.1, but you have jedi 0.17.2 which is incompatible.\n",
      "spyder 4.1.4 requires pyqt5<5.13; python_version >= \"3\", but you have pyqt5 5.15.6 which is incompatible.\n",
      "WARNING: Ignoring invalid distribution -qdm (c:\\anaconda3\\lib\\site-packages)\n",
      "WARNING: Ignoring invalid distribution -qdm (c:\\anaconda3\\lib\\site-packages)\n",
      "WARNING: Ignoring invalid distribution -qdm (c:\\anaconda3\\lib\\site-packages)\n",
      "WARNING: You are using pip version 21.2.2; however, version 22.1.1 is available.\n",
      "You should consider upgrading via the 'c:\\anaconda3\\python.exe -m pip install --upgrade pip' command.\n"
     ]
    }
   ],
   "source": [
    "#!pip install --upgrade jedi==0.17.2"
   ]
  },
  {
   "cell_type": "code",
   "execution_count": 5,
   "metadata": {},
   "outputs": [],
   "source": [
    "import pixellib\n",
    "from pixellib.instance import instance_segmentation\n",
    "import cv2\n",
    "import os"
   ]
  },
  {
   "cell_type": "markdown",
   "metadata": {},
   "source": [
    "# 2. Setup Model\n"
   ]
  },
  {
   "cell_type": "code",
   "execution_count": 21,
   "metadata": {},
   "outputs": [],
   "source": [
    "#Class Names can be obtained from\n",
    "#https://gist.github.com/AruniRC/7b3dadd004da04c80198557db5da4bda\n",
    "#80 Classes..."
   ]
  },
  {
   "cell_type": "code",
   "execution_count": 3,
   "metadata": {},
   "outputs": [],
   "source": [
    "segmentation_model = instance_segmentation()\n",
    "segmentation_model.load_model('mask_rcnn_coco.h5')"
   ]
  },
  {
   "cell_type": "code",
   "execution_count": 8,
   "metadata": {},
   "outputs": [],
   "source": [
    "cap = cv2.VideoCapture(0)\n",
    "while cap.isOpened():\n",
    "    ret, frame = cap.read()\n",
    "    \n",
    "    # Apply instance segmentation\n",
    "    res = segmentation_model.segmentFrame(frame, show_bboxes=True)\n",
    "    image = res[1]\n",
    "    \n",
    "    cv2.imshow('Instance Segmentation', image)\n",
    "    \n",
    "    if cv2.waitKey(10) & 0xFF == ord('q'):\n",
    "        break\n",
    "        \n",
    "cap.release()\n",
    "cv2.destroyAllWindows()"
   ]
  },
  {
   "cell_type": "code",
   "execution_count": 116,
   "metadata": {},
   "outputs": [],
   "source": [
    "#Before segmentation and extract images delete all images which extracted before.\n",
    "dir_name = \"./\"\n",
    "db_dir_name = \"./Database/\"\n",
    "test = os.listdir(dir_name)\n",
    "db_dir = os.listdir(db_dir_name)\n",
    "\n",
    "for item in test:\n",
    "    if item.startswith(\"segmented_object\"):\n",
    "        os.remove(os.path.join(dir_name, item))"
   ]
  },
  {
   "cell_type": "code",
   "execution_count": 119,
   "metadata": {},
   "outputs": [
    {
     "name": "stdout",
     "output_type": "stream",
     "text": [
      "Processed image saved successfully in your current working directory.\n"
     ]
    }
   ],
   "source": [
    "segmask, output = segmentation_model.segmentImage(\"IMG_2917.jpg\", show_bboxes=True, output_image_name=\"outputImages/SegmentedImage.jpg\", extract_segmented_objects= True, save_extracted_objects=True)"
   ]
  },
  {
   "cell_type": "code",
   "execution_count": 120,
   "metadata": {},
   "outputs": [
    {
     "name": "stdout",
     "output_type": "stream",
     "text": [
      "[40 40 40 61 42]\n"
     ]
    }
   ],
   "source": [
    "print(segmask['class_ids'])"
   ]
  },
  {
   "cell_type": "markdown",
   "metadata": {},
   "source": [
    "# 3. Image Similarity"
   ]
  },
  {
   "cell_type": "code",
   "execution_count": 121,
   "metadata": {},
   "outputs": [],
   "source": [
    "from skimage.metrics import structural_similarity\n",
    "from skimage.transform import resize \n",
    "from sewar.full_ref import mse, rmse, psnr, uqi, ssim, ergas, scc, rase, sam, msssim, vifp"
   ]
  },
  {
   "cell_type": "code",
   "execution_count": 122,
   "metadata": {},
   "outputs": [],
   "source": [
    "#Needs image to be same dimensions\n",
    "def structural_sim(img1, img2):\n",
    "    sim, diff = structural_similarity(img1, img2, full=True)\n",
    "    return sim\n",
    "\n",
    "#Works well with imags of different dimensions\n",
    "def orb_sim(img1, img2):\n",
    "    orb = cv2.ORB_create()\n",
    "    \n",
    "    # detect keypoints and descriptors\n",
    "    kp_a, desc_a = orb.detectAndCompute(img1, None)\n",
    "    kp_b, desc_b = orb.detectAndCompute(img2, None)\n",
    "    \n",
    "    #define the bruteforce matcher object\n",
    "    bf = cv2.BFMatcher(cv2.NORM_HAMMING, crossCheck = True)\n",
    "    \n",
    "    #perform matches\n",
    "    matches = bf.match(desc_a, desc_b)\n",
    "    #Look for similar regions with distance < 50. Goes from 0 to 100 \n",
    "    similar_regions = [i for i in matches if i.distance < 70]\n",
    "    if len(matches) == 0:\n",
    "        return 0\n",
    "    return len(similar_regions) / len(matches)"
   ]
  },
  {
   "cell_type": "code",
   "execution_count": 126,
   "metadata": {},
   "outputs": [
    {
     "name": "stdout",
     "output_type": "stream",
     "text": [
      "./segmented_object_1.jpg\n",
      "./Database/40-Bottle\\bio_true_bottle.jpg\n",
      "Similarity using ORB is: 1.0\n",
      "./segmented_object_1.jpg  is already saved\n",
      "./segmented_object_2.jpg\n",
      "./Database/40-Bottle\\bio_true_bottle.jpg\n",
      "Similarity using ORB is: 0.910958904109589\n",
      "./segmented_object_2.jpg  is already saved\n",
      "./segmented_object_3.jpg\n",
      "./Database/40-Bottle\\bio_true_bottle.jpg\n",
      "Similarity using ORB is: 0.2976190476190476\n",
      "./Database/40-Bottle\\joop_home_bottle.jpg\n",
      "Similarity using ORB is: 1.0\n",
      "./segmented_object_3.jpg  is already saved\n",
      "./segmented_object_4.jpg\n"
     ]
    }
   ],
   "source": [
    "index =  0\n",
    "item_list = []\n",
    "for item in test:\n",
    "    if item.startswith(\"segmented_object\"):\n",
    "        contour_path = os.path.join(dir_name, item)\n",
    "        item_list.append(contour_path)\n",
    "        print(contour_path)\n",
    "        img1 = cv2.imread('{}'.format(contour_path), 0) #Read the contour image\n",
    "        for db_item in db_dir:\n",
    "            if db_item.startswith(\"{}\".format(segmask['class_ids'][index])): #Find the corresponding class category in db\n",
    "                db_item_dir = os.listdir(os.path.join(db_dir_name, db_item))\n",
    "                db_item_path = os.path.join(db_dir_name, db_item)\n",
    "                for image_item in db_item_dir:\n",
    "                    if image_item.endswith(\".jpg\"):\n",
    "                        img_path = os.path.join(db_item_path, image_item)\n",
    "                        print(img_path)\n",
    "                        img2 = cv2.imread('{}'.format(img_path), 0)\n",
    "                        orb_similarity = orb_sim(img1, img2) #1.0 means identical\n",
    "                        print(\"Similarity using ORB is:\", orb_similarity)\n",
    "                        if(orb_similarity > 0.9):\n",
    "                            print(contour_path, \" is already saved\")\n",
    "                            #remove it from the item_list\n",
    "                            item_list.remove(contour_path)\n",
    "                            break\n",
    "\n",
    "       \n",
    "                   \n",
    "         \n",
    "                                               \n",
    "        #print(segmask['class_ids'][index])\n",
    "        index+=1"
   ]
  },
  {
   "cell_type": "code",
   "execution_count": 124,
   "metadata": {},
   "outputs": [
    {
     "name": "stdout",
     "output_type": "stream",
     "text": [
      "Unlabelled objects are:\n",
      "./segmented_object_4.jpg\n"
     ]
    }
   ],
   "source": [
    "print(\"Unlabelled objects are:\")\n",
    "for i in item_list:\n",
    "    print(i)\n",
    "\n",
    "\n"
   ]
  },
  {
   "cell_type": "code",
   "execution_count": null,
   "metadata": {},
   "outputs": [],
   "source": []
  }
 ],
 "metadata": {
  "kernelspec": {
   "display_name": "Python 3",
   "language": "python",
   "name": "python3"
  },
  "language_info": {
   "codemirror_mode": {
    "name": "ipython",
    "version": 3
   },
   "file_extension": ".py",
   "mimetype": "text/x-python",
   "name": "python",
   "nbconvert_exporter": "python",
   "pygments_lexer": "ipython3",
   "version": "3.8.3"
  }
 },
 "nbformat": 4,
 "nbformat_minor": 4
}
